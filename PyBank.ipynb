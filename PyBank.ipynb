{
 "cells": [
  {
   "cell_type": "code",
   "execution_count": 2,
   "metadata": {},
   "outputs": [],
   "source": [
    "\n",
    "import csv\n",
    "from pathlib import Path\n",
    "\n"
   ]
  },
  {
   "cell_type": "code",
   "execution_count": 10,
   "metadata": {},
   "outputs": [
    {
     "name": "stdout",
     "output_type": "stream",
     "text": "/Users/songzhao/programming/CU-NYC-FIN-PT-12-2019-U-C/Homework/02-Python/Instructions/PyBank\n"
    }
   ],
   "source": [
    "# Set the file path\n",
    "print(Path.cwd())"
   ]
  },
  {
   "cell_type": "code",
   "execution_count": 17,
   "metadata": {},
   "outputs": [],
   "source": [
    "pybank_csv= Path(\"Resources/budget_data.csv\")"
   ]
  },
  {
   "cell_type": "code",
   "execution_count": 18,
   "metadata": {},
   "outputs": [],
   "source": [
    "##The total number of months included in the dataset.\n",
    "\n",
    "##The net total amount of Profit/Losses over the entire period.\n",
    "\n",
    "##The average of the changes in Profit/Losses over the entire period.\n",
    "\n",
    "##The greatest increase in profits (date and amount) over the entire period.\n",
    "\n",
    "## The greatest decrease in losses (date and amount) over the entire period."
   ]
  },
  {
   "cell_type": "code",
   "execution_count": 23,
   "metadata": {},
   "outputs": [
    {
     "name": "stdout",
     "output_type": "stream",
     "text": "['Date', 'Profit/Losses']\n['Jan-2010', '867884']\n['Feb-2010', '984655']\n['Mar-2010', '322013']\n['Apr-2010', '-69417']\n['May-2010', '310503']\n['Jun-2010', '522857']\n['Jul-2010', '1033096']\n['Aug-2010', '604885']\n['Sep-2010', '-216386']\n['Oct-2010', '477532']\n['Nov-2010', '893810']\n['Dec-2010', '-80353']\n['Jan-2011', '779806']\n['Feb-2011', '-335203']\n['Mar-2011', '697845']\n['Apr-2011', '793163']\n['May-2011', '485070']\n['Jun-2011', '584122']\n['Jul-2011', '62729']\n['Aug-2011', '668179']\n['Sep-2011', '899906']\n['Oct-2011', '834719']\n['Nov-2011', '132003']\n['Dec-2011', '309978']\n['Jan-2012', '-755566']\n['Feb-2012', '1170593']\n['Mar-2012', '252788']\n['Apr-2012', '1151518']\n['May-2012', '817256']\n['Jun-2012', '570757']\n['Jul-2012', '506702']\n['Aug-2012', '-1022534']\n['Sep-2012', '475062']\n['Oct-2012', '779976']\n['Nov-2012', '144175']\n['Dec-2012', '542494']\n['Jan-2013', '359333']\n['Feb-2013', '321469']\n['Mar-2013', '67780']\n['Apr-2013', '471435']\n['May-2013', '565603']\n['Jun-2013', '872480']\n['Jul-2013', '789480']\n['Aug-2013', '999942']\n['Sep-2013', '-1196225']\n['Oct-2013', '268997']\n['Nov-2013', '-687986']\n['Dec-2013', '1150461']\n['Jan-2014', '682458']\n['Feb-2014', '617856']\n['Mar-2014', '824098']\n['Apr-2014', '581943']\n['May-2014', '132864']\n['Jun-2014', '448062']\n['Jul-2014', '689161']\n['Aug-2014', '800701']\n['Sep-2014', '1166643']\n['Oct-2014', '947333']\n['Nov-2014', '578668']\n['Dec-2014', '988505']\n['Jan-2015', '1139715']\n['Feb-2015', '1029471']\n['Mar-2015', '687533']\n['Apr-2015', '-524626']\n['May-2015', '158620']\n['Jun-2015', '87795']\n['Jul-2015', '423389']\n['Aug-2015', '840723']\n['Sep-2015', '568529']\n['Oct-2015', '332067']\n['Nov-2015', '989499']\n['Dec-2015', '778237']\n['Jan-2016', '650000']\n['Feb-2016', '-1100387']\n['Mar-2016', '-174946']\n['Apr-2016', '757143']\n['May-2016', '445709']\n['Jun-2016', '712961']\n['Jul-2016', '-1163797']\n['Aug-2016', '569899']\n['Sep-2016', '768450']\n['Oct-2016', '102685']\n['Nov-2016', '795914']\n['Dec-2016', '60988']\n['Jan-2017', '138230']\n['Feb-2017', '671099']\n"
    }
   ],
   "source": [
    "# Pass in the csv file to the csv.reader() function\n",
    "with open(pybank_csv) as pybank:\n",
    "    csvreader = csv.reader(pybank)\n",
    "    for row in csvreader:\n",
    "        # Print the row\n",
    "        print(row)\n",
    "       "
   ]
  },
  {
   "cell_type": "code",
   "execution_count": 27,
   "metadata": {},
   "outputs": [
    {
     "name": "stdout",
     "output_type": "stream",
     "text": "['Date', 'Profit/Losses'] <---- HEADER\n"
    }
   ],
   "source": [
    "# Go to the next row from the start of the file\n",
    "with open(pybank_csv) as pybank:\n",
    "    csvreader = csv.reader(pybank)\n",
    "    header = next(csvreader)\n",
    "    print(f\"{header} <---- HEADER\")"
   ]
  },
  {
   "cell_type": "code",
   "execution_count": 30,
   "metadata": {},
   "outputs": [],
   "source": [
    "# Initialize variable to hold salaries\n",
    "total_months = 0  #count_cycles\n",
    "net_total = 0\n",
    "date = []\n",
    "profit_loss_list = [] #profit_loss\n",
    "change = 0\n",
    "change_max = 0\n",
    "change_min = 0\n",
    "total_change = 0\n",
    "date_min_change = []\n",
    "date_max_change = []\n",
    "last_p_l = 0 "
   ]
  },
  {
   "cell_type": "code",
   "execution_count": 32,
   "metadata": {},
   "outputs": [
    {
     "ename": "ValueError",
     "evalue": "I/O operation on closed file.",
     "output_type": "error",
     "traceback": [
      "\u001b[0;31m---------------------------------------------------------------------------\u001b[0m",
      "\u001b[0;31mValueError\u001b[0m                                Traceback (most recent call last)",
      "\u001b[0;32m<ipython-input-32-4d05a82bd1ab>\u001b[0m in \u001b[0;36m<module>\u001b[0;34m\u001b[0m\n\u001b[1;32m      3\u001b[0m     \u001b[0mheader\u001b[0m \u001b[0;34m=\u001b[0m \u001b[0mnext\u001b[0m\u001b[0;34m(\u001b[0m\u001b[0mcsvreader\u001b[0m\u001b[0;34m)\u001b[0m\u001b[0;34m\u001b[0m\u001b[0;34m\u001b[0m\u001b[0m\n\u001b[1;32m      4\u001b[0m \u001b[0;34m\u001b[0m\u001b[0m\n\u001b[0;32m----> 5\u001b[0;31m \u001b[0;32mfor\u001b[0m \u001b[0mrow\u001b[0m \u001b[0;32min\u001b[0m \u001b[0mcsvreader\u001b[0m\u001b[0;34m:\u001b[0m\u001b[0;34m\u001b[0m\u001b[0;34m\u001b[0m\u001b[0m\n\u001b[0m\u001b[1;32m      6\u001b[0m     \u001b[0mdecrease\u001b[0m \u001b[0;34m=\u001b[0m \u001b[0mint\u001b[0m\u001b[0;34m(\u001b[0m\u001b[0mrow\u001b[0m\u001b[0;34m[\u001b[0m\u001b[0;36m1\u001b[0m\u001b[0;34m]\u001b[0m\u001b[0;34m)\u001b[0m\u001b[0;34m\u001b[0m\u001b[0;34m\u001b[0m\u001b[0m\n\u001b[1;32m      7\u001b[0m     \u001b[0mfirst_row\u001b[0m \u001b[0;34m=\u001b[0m \u001b[0mnext\u001b[0m\u001b[0;34m(\u001b[0m\u001b[0mcsvreader\u001b[0m\u001b[0;34m)\u001b[0m\u001b[0;34m\u001b[0m\u001b[0;34m\u001b[0m\u001b[0m\n",
      "\u001b[0;31mValueError\u001b[0m: I/O operation on closed file."
     ]
    }
   ],
   "source": [
    "with open(pybank_csv, 'r') as pybank:\n",
    "    csvreader = csv.reader(pybank, delimiter = ',')\n",
    "    header = next(csvreader)\n",
    "\n",
    "for row in csvreader:\n",
    "    decrease = int(row[1])\n",
    "    first_row = next(csvreader)\n",
    "    total_months += 1\n",
    "    net_total = int (row[1])#net_total + int(first_row[1])\n",
    "    profit_loss_list.append(pnl)\n",
    "    date.append(months)\n",
    "    \n",
    "    if last_p_l == 0:\n",
    "        last_p_l = profit_loss_list\n",
    "    change = profit_loss_list - last_p_l\n",
    "    total_change += change\n",
    "    if change > change_max:\n",
    "        change_max = change\n",
    "        date_max_change = row [0]\n",
    "\n",
    "\n",
    "    last_p_l = profit_loss_list\n",
    "pybank.close()\n",
    "\n",
    "analysis = (f\"\\\n",
    "Financial analysis\\n\\n\\\n",
    "--------------------\\n\\n\\\n",
    "Total Months:  {total_months}\\n\\\n",
    "Total:   ${net_total}\\n\\\n",
    "Average change:  ${round(total_change / (total_months-1), 2)}\\n\\\n",
    "The greatest increase in profits over the entire period: {date_max_change} (${change_max})\\n\\\n",
    "The greatest decrease in profits over the entire period: {date_min_change} (${change_min})\")\n",
    "\n",
    "print(analysis)\n",
    "\n",
    "output_csv = Path(\"/Users/songzhao/programming/CU-NYC-FIN-PT-12-2019-U-C/Homework/02-Python/Instructions/PyBank/report.csv\")\n",
    "\n",
    "with open(output_csv, 'w') as report:\n",
    "    report.write(analysis)\n",
    "\n",
    "report.close()\n",
    "        "
   ]
  },
  {
   "cell_type": "code",
   "execution_count": null,
   "metadata": {},
   "outputs": [],
   "source": []
  },
  {
   "cell_type": "code",
   "execution_count": null,
   "metadata": {},
   "outputs": [],
   "source": [
    "\n"
   ]
  },
  {
   "cell_type": "code",
   "execution_count": null,
   "metadata": {},
   "outputs": [],
   "source": []
  }
 ],
 "metadata": {
  "kernelspec": {
   "display_name": "Python 3",
   "language": "python",
   "name": "python3"
  },
  "language_info": {
   "codemirror_mode": {
    "name": "ipython",
    "version": 3
   },
   "file_extension": ".py",
   "mimetype": "text/x-python",
   "name": "python",
   "nbconvert_exporter": "python",
   "pygments_lexer": "ipython3",
   "version": "3.7.4-final"
  }
 },
 "nbformat": 4,
 "nbformat_minor": 4
}